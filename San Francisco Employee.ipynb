{
 "cells": [
  {
   "cell_type": "markdown",
   "id": "81e6700b-c146-48dc-ade7-44a01592986f",
   "metadata": {},
   "source": [
    "# NAME - SHIKHA ANAND\n",
    "# CONTACT - 9742292633\n",
    "# UNID - UMIP282191"
   ]
  },
  {
   "cell_type": "markdown",
   "id": "93cc26bf-04fc-4a2a-8cf8-fcd438798c0d",
   "metadata": {},
   "source": [
    "This Dataset contains more than 300k employee records found in San Francisco from\n",
    "2011 to 2018.\n",
    "Complete and accurate information is necessary to increase public understanding of\n",
    "government and help decision makers, including elected officials and voters, make\n",
    "informed decisions.\n",
    "This Dataset is provided by the Nevada Policy Research Institute as a public service\n",
    "and is dedicated to providing accurate, comprehensive and easily searchable\n",
    "information on the compensation of public employees in California."
   ]
  },
  {
   "cell_type": "markdown",
   "id": "57642d07-8b38-49d7-92d6-c4f8ba9bba90",
   "metadata": {},
   "source": [
    "# Objective"
   ]
  },
  {
   "cell_type": "markdown",
   "id": "3516bcd3-df56-427c-87ea-43c78a37cc97",
   "metadata": {},
   "source": [
    "The project aims to analyze employee compensation data, including BasePay,\n",
    "OvertimePay, OtherPay, Benefits, and their relation to TotalPay and TotalPayBenefits.\n",
    "This is achieved through Exploratory Data Analysis (EDA) and Visualization using\n",
    "Python."
   ]
  },
  {
   "cell_type": "code",
   "execution_count": 41,
   "id": "1bb6185b-3d18-47cc-a7c9-4db826f5ec0d",
   "metadata": {},
   "outputs": [],
   "source": [
    "import numpy as np\n",
    "import pandas as pd\n",
    "import matplotlib.pyplot as plt\n",
    "import seaborn as sns\n",
    "%matplotlib inline"
   ]
  },
  {
   "cell_type": "code",
   "execution_count": 43,
   "id": "bc8f9213-fb36-477b-88b7-5e2271672d74",
   "metadata": {},
   "outputs": [
    {
     "name": "stderr",
     "output_type": "stream",
     "text": [
      "C:\\Users\\shikh\\AppData\\Local\\Temp\\ipykernel_8972\\1633301223.py:2: DtypeWarning: Columns (2,3,4,5) have mixed types. Specify dtype option on import or set low_memory=False.\n",
      "  df = pd.read_csv(\"Total.csv\")\n"
     ]
    }
   ],
   "source": [
    "#Read the Data and make a DataFrame\n",
    "df = pd.read_csv(\"Total.csv\")"
   ]
  },
  {
   "cell_type": "code",
   "execution_count": 44,
   "id": "9d99699d-1d21-4ba9-917f-14f4289ec00c",
   "metadata": {},
   "outputs": [
    {
     "data": {
      "text/html": [
       "<div>\n",
       "<style scoped>\n",
       "    .dataframe tbody tr th:only-of-type {\n",
       "        vertical-align: middle;\n",
       "    }\n",
       "\n",
       "    .dataframe tbody tr th {\n",
       "        vertical-align: top;\n",
       "    }\n",
       "\n",
       "    .dataframe thead th {\n",
       "        text-align: right;\n",
       "    }\n",
       "</style>\n",
       "<table border=\"1\" class=\"dataframe\">\n",
       "  <thead>\n",
       "    <tr style=\"text-align: right;\">\n",
       "      <th></th>\n",
       "      <th>EmployeeName</th>\n",
       "      <th>JobTitle</th>\n",
       "      <th>BasePay</th>\n",
       "      <th>OvertimePay</th>\n",
       "      <th>OtherPay</th>\n",
       "      <th>Benefits</th>\n",
       "      <th>TotalPay</th>\n",
       "      <th>TotalPayBenefits</th>\n",
       "      <th>Year</th>\n",
       "    </tr>\n",
       "  </thead>\n",
       "  <tbody>\n",
       "    <tr>\n",
       "      <th>0</th>\n",
       "      <td>NATHANIEL FORD</td>\n",
       "      <td>GENERAL MANAGER-METROPOLITAN TRANSIT AUTHORITY</td>\n",
       "      <td>167411.18</td>\n",
       "      <td>0.0</td>\n",
       "      <td>400184.25</td>\n",
       "      <td>Not Provided</td>\n",
       "      <td>567595.43</td>\n",
       "      <td>567595.43</td>\n",
       "      <td>2011</td>\n",
       "    </tr>\n",
       "    <tr>\n",
       "      <th>1</th>\n",
       "      <td>GARY JIMENEZ</td>\n",
       "      <td>CAPTAIN III (POLICE DEPARTMENT)</td>\n",
       "      <td>155966.02</td>\n",
       "      <td>245131.88</td>\n",
       "      <td>137811.38</td>\n",
       "      <td>Not Provided</td>\n",
       "      <td>538909.28</td>\n",
       "      <td>538909.28</td>\n",
       "      <td>2011</td>\n",
       "    </tr>\n",
       "    <tr>\n",
       "      <th>2</th>\n",
       "      <td>ALBERT PARDINI</td>\n",
       "      <td>CAPTAIN III (POLICE DEPARTMENT)</td>\n",
       "      <td>212739.13</td>\n",
       "      <td>106088.18</td>\n",
       "      <td>16452.6</td>\n",
       "      <td>Not Provided</td>\n",
       "      <td>335279.91</td>\n",
       "      <td>335279.91</td>\n",
       "      <td>2011</td>\n",
       "    </tr>\n",
       "    <tr>\n",
       "      <th>3</th>\n",
       "      <td>CHRISTOPHER CHONG</td>\n",
       "      <td>WIRE ROPE CABLE MAINTENANCE MECHANIC</td>\n",
       "      <td>77916.0</td>\n",
       "      <td>56120.71</td>\n",
       "      <td>198306.9</td>\n",
       "      <td>Not Provided</td>\n",
       "      <td>332343.61</td>\n",
       "      <td>332343.61</td>\n",
       "      <td>2011</td>\n",
       "    </tr>\n",
       "    <tr>\n",
       "      <th>4</th>\n",
       "      <td>PATRICK GARDNER</td>\n",
       "      <td>DEPUTY CHIEF OF DEPARTMENT,(FIRE DEPARTMENT)</td>\n",
       "      <td>134401.6</td>\n",
       "      <td>9737.0</td>\n",
       "      <td>182234.59</td>\n",
       "      <td>Not Provided</td>\n",
       "      <td>326373.19</td>\n",
       "      <td>326373.19</td>\n",
       "      <td>2011</td>\n",
       "    </tr>\n",
       "  </tbody>\n",
       "</table>\n",
       "</div>"
      ],
      "text/plain": [
       "        EmployeeName                                        JobTitle  \\\n",
       "0     NATHANIEL FORD  GENERAL MANAGER-METROPOLITAN TRANSIT AUTHORITY   \n",
       "1       GARY JIMENEZ                 CAPTAIN III (POLICE DEPARTMENT)   \n",
       "2     ALBERT PARDINI                 CAPTAIN III (POLICE DEPARTMENT)   \n",
       "3  CHRISTOPHER CHONG            WIRE ROPE CABLE MAINTENANCE MECHANIC   \n",
       "4    PATRICK GARDNER    DEPUTY CHIEF OF DEPARTMENT,(FIRE DEPARTMENT)   \n",
       "\n",
       "     BasePay OvertimePay   OtherPay      Benefits   TotalPay  \\\n",
       "0  167411.18         0.0  400184.25  Not Provided  567595.43   \n",
       "1  155966.02   245131.88  137811.38  Not Provided  538909.28   \n",
       "2  212739.13   106088.18    16452.6  Not Provided  335279.91   \n",
       "3    77916.0    56120.71   198306.9  Not Provided  332343.61   \n",
       "4   134401.6      9737.0  182234.59  Not Provided  326373.19   \n",
       "\n",
       "   TotalPayBenefits  Year  \n",
       "0         567595.43  2011  \n",
       "1         538909.28  2011  \n",
       "2         335279.91  2011  \n",
       "3         332343.61  2011  \n",
       "4         326373.19  2011  "
      ]
     },
     "execution_count": 44,
     "metadata": {},
     "output_type": "execute_result"
    }
   ],
   "source": [
    "df.head()"
   ]
  },
  {
   "cell_type": "code",
   "execution_count": 45,
   "id": "95547fb5-23c8-448c-b441-1147b758e738",
   "metadata": {},
   "outputs": [
    {
     "name": "stdout",
     "output_type": "stream",
     "text": [
      "This Dataset countains 312882 Rows and 9 Columns\n"
     ]
    }
   ],
   "source": [
    "#Check the Shape of the DataFrame\n",
    "\n",
    "print('This Dataset countains {} Rows and {} Columns'.format(df.shape[0], df.shape[1]))"
   ]
  },
  {
   "cell_type": "code",
   "execution_count": 46,
   "id": "bf102447-431f-40dd-8fe4-c61dd190de51",
   "metadata": {},
   "outputs": [
    {
     "name": "stdout",
     "output_type": "stream",
     "text": [
      "<class 'pandas.core.frame.DataFrame'>\n",
      "RangeIndex: 312882 entries, 0 to 312881\n",
      "Data columns (total 9 columns):\n",
      " #   Column            Non-Null Count   Dtype  \n",
      "---  ------            --------------   -----  \n",
      " 0   EmployeeName      312882 non-null  object \n",
      " 1   JobTitle          312882 non-null  object \n",
      " 2   BasePay           312882 non-null  object \n",
      " 3   OvertimePay       312882 non-null  object \n",
      " 4   OtherPay          312882 non-null  object \n",
      " 5   Benefits          312882 non-null  object \n",
      " 6   TotalPay          312882 non-null  float64\n",
      " 7   TotalPayBenefits  312882 non-null  float64\n",
      " 8   Year              312882 non-null  int64  \n",
      "dtypes: float64(2), int64(1), object(6)\n",
      "memory usage: 21.5+ MB\n"
     ]
    }
   ],
   "source": [
    "#Check other information about the dataset\n",
    "df.info()"
   ]
  },
  {
   "cell_type": "markdown",
   "id": "d9616dc8-d436-4259-a59a-a8910423e7fb",
   "metadata": {},
   "source": [
    "The above window shows that:\n",
    "\n",
    "1- All columns have 312882 records (We don't have any missing data)\n",
    "\n",
    "2- Columns (BasPay, OvertimePay, OtherPay and Benefits) are in object format. Therefore, for analyzing these columns, we must change their type to float64. So,.."
   ]
  },
  {
   "cell_type": "code",
   "execution_count": 52,
   "id": "bee8c64b-381a-41a1-90a4-a5b6cda1c2fb",
   "metadata": {},
   "outputs": [],
   "source": [
    "series_list = ['BasePay', 'OvertimePay', 'OtherPay', 'Benefits']\n",
    "for series in series_list:\n",
    "    df[series] = pd.to_numeric(df[series], errors='coerce')"
   ]
  },
  {
   "cell_type": "code",
   "execution_count": 53,
   "id": "ba465b27-382b-4a48-93b0-238cf23c03b6",
   "metadata": {},
   "outputs": [
    {
     "name": "stdout",
     "output_type": "stream",
     "text": [
      "<class 'pandas.core.frame.DataFrame'>\n",
      "RangeIndex: 312882 entries, 0 to 312881\n",
      "Data columns (total 9 columns):\n",
      " #   Column            Non-Null Count   Dtype  \n",
      "---  ------            --------------   -----  \n",
      " 0   EmployeeName      312882 non-null  object \n",
      " 1   JobTitle          312882 non-null  object \n",
      " 2   BasePay           312276 non-null  float64\n",
      " 3   OvertimePay       312881 non-null  float64\n",
      " 4   OtherPay          312881 non-null  float64\n",
      " 5   Benefits          276722 non-null  float64\n",
      " 6   TotalPay          312882 non-null  float64\n",
      " 7   TotalPayBenefits  312882 non-null  float64\n",
      " 8   Year              312882 non-null  int64  \n",
      "dtypes: float64(6), int64(1), object(2)\n",
      "memory usage: 21.5+ MB\n"
     ]
    }
   ],
   "source": [
    "#Check the dataset information again\n",
    "df.info()"
   ]
  },
  {
   "cell_type": "markdown",
   "id": "cb034d35-ac76-4586-be31-4379c5bc564d",
   "metadata": {},
   "source": [
    "#### Descriptive Statistical Analysis"
   ]
  },
  {
   "cell_type": "code",
   "execution_count": 57,
   "id": "ffed8606-e498-48f6-974c-66b8be23d76c",
   "metadata": {},
   "outputs": [
    {
     "data": {
      "text/plain": [
       "69808.2574960612"
      ]
     },
     "execution_count": 57,
     "metadata": {},
     "output_type": "execute_result"
    }
   ],
   "source": [
    "df['BasePay'].mean()"
   ]
  },
  {
   "cell_type": "code",
   "execution_count": 59,
   "id": "fa62f389-001e-484e-b51c-dbf2e97fc52b",
   "metadata": {},
   "outputs": [
    {
     "data": {
      "text/plain": [
       "592394.34"
      ]
     },
     "execution_count": 59,
     "metadata": {},
     "output_type": "execute_result"
    }
   ],
   "source": [
    "df['BasePay'].max()"
   ]
  },
  {
   "cell_type": "code",
   "execution_count": 61,
   "id": "57e3fcab-8200-4df1-858b-45fcf300cb75",
   "metadata": {},
   "outputs": [
    {
     "data": {
      "text/plain": [
       "count    312276.000000\n",
       "mean      69808.257496\n",
       "std       45376.929428\n",
       "min        -474.400000\n",
       "25%       35722.365000\n",
       "50%       67710.450000\n",
       "75%       99312.302500\n",
       "max      592394.340000\n",
       "Name: BasePay, dtype: float64"
      ]
     },
     "execution_count": 61,
     "metadata": {},
     "output_type": "execute_result"
    }
   ],
   "source": [
    "df['BasePay'].describe()"
   ]
  },
  {
   "cell_type": "code",
   "execution_count": 63,
   "id": "819da78d-c938-45e3-9836-00ba4a259b1d",
   "metadata": {},
   "outputs": [
    {
     "data": {
      "text/html": [
       "<div>\n",
       "<style scoped>\n",
       "    .dataframe tbody tr th:only-of-type {\n",
       "        vertical-align: middle;\n",
       "    }\n",
       "\n",
       "    .dataframe tbody tr th {\n",
       "        vertical-align: top;\n",
       "    }\n",
       "\n",
       "    .dataframe thead th {\n",
       "        text-align: right;\n",
       "    }\n",
       "</style>\n",
       "<table border=\"1\" class=\"dataframe\">\n",
       "  <thead>\n",
       "    <tr style=\"text-align: right;\">\n",
       "      <th></th>\n",
       "      <th>BasePay</th>\n",
       "      <th>OvertimePay</th>\n",
       "      <th>OtherPay</th>\n",
       "      <th>Benefits</th>\n",
       "      <th>TotalPay</th>\n",
       "      <th>TotalPayBenefits</th>\n",
       "      <th>Year</th>\n",
       "    </tr>\n",
       "  </thead>\n",
       "  <tbody>\n",
       "    <tr>\n",
       "      <th>count</th>\n",
       "      <td>312276.000000</td>\n",
       "      <td>312881.000000</td>\n",
       "      <td>312881.000000</td>\n",
       "      <td>276722.000000</td>\n",
       "      <td>312882.000000</td>\n",
       "      <td>312882.000000</td>\n",
       "      <td>312882.000000</td>\n",
       "    </tr>\n",
       "    <tr>\n",
       "      <th>mean</th>\n",
       "      <td>69808.257496</td>\n",
       "      <td>5668.929393</td>\n",
       "      <td>3460.694974</td>\n",
       "      <td>25016.917292</td>\n",
       "      <td>78802.645788</td>\n",
       "      <td>100928.339777</td>\n",
       "      <td>2014.625303</td>\n",
       "    </tr>\n",
       "    <tr>\n",
       "      <th>std</th>\n",
       "      <td>45376.929428</td>\n",
       "      <td>12745.655309</td>\n",
       "      <td>7387.263120</td>\n",
       "      <td>15089.077103</td>\n",
       "      <td>53230.758542</td>\n",
       "      <td>66485.186495</td>\n",
       "      <td>2.290899</td>\n",
       "    </tr>\n",
       "    <tr>\n",
       "      <th>min</th>\n",
       "      <td>-474.400000</td>\n",
       "      <td>-292.800000</td>\n",
       "      <td>-7058.590000</td>\n",
       "      <td>-13939.420000</td>\n",
       "      <td>-618.130000</td>\n",
       "      <td>-3628.780000</td>\n",
       "      <td>2011.000000</td>\n",
       "    </tr>\n",
       "    <tr>\n",
       "      <th>25%</th>\n",
       "      <td>35722.365000</td>\n",
       "      <td>0.000000</td>\n",
       "      <td>0.000000</td>\n",
       "      <td>12729.762500</td>\n",
       "      <td>38803.000000</td>\n",
       "      <td>48955.072500</td>\n",
       "      <td>2013.000000</td>\n",
       "    </tr>\n",
       "    <tr>\n",
       "      <th>50%</th>\n",
       "      <td>67710.450000</td>\n",
       "      <td>0.000000</td>\n",
       "      <td>728.000000</td>\n",
       "      <td>28327.330000</td>\n",
       "      <td>74908.790000</td>\n",
       "      <td>100011.290000</td>\n",
       "      <td>2015.000000</td>\n",
       "    </tr>\n",
       "    <tr>\n",
       "      <th>75%</th>\n",
       "      <td>99312.302500</td>\n",
       "      <td>5223.120000</td>\n",
       "      <td>3958.680000</td>\n",
       "      <td>35268.162500</td>\n",
       "      <td>111386.897500</td>\n",
       "      <td>142376.300000</td>\n",
       "      <td>2017.000000</td>\n",
       "    </tr>\n",
       "    <tr>\n",
       "      <th>max</th>\n",
       "      <td>592394.340000</td>\n",
       "      <td>309481.030000</td>\n",
       "      <td>400184.250000</td>\n",
       "      <td>125891.730000</td>\n",
       "      <td>592394.340000</td>\n",
       "      <td>712802.360000</td>\n",
       "      <td>2018.000000</td>\n",
       "    </tr>\n",
       "  </tbody>\n",
       "</table>\n",
       "</div>"
      ],
      "text/plain": [
       "             BasePay    OvertimePay       OtherPay       Benefits  \\\n",
       "count  312276.000000  312881.000000  312881.000000  276722.000000   \n",
       "mean    69808.257496    5668.929393    3460.694974   25016.917292   \n",
       "std     45376.929428   12745.655309    7387.263120   15089.077103   \n",
       "min      -474.400000    -292.800000   -7058.590000  -13939.420000   \n",
       "25%     35722.365000       0.000000       0.000000   12729.762500   \n",
       "50%     67710.450000       0.000000     728.000000   28327.330000   \n",
       "75%     99312.302500    5223.120000    3958.680000   35268.162500   \n",
       "max    592394.340000  309481.030000  400184.250000  125891.730000   \n",
       "\n",
       "            TotalPay  TotalPayBenefits           Year  \n",
       "count  312882.000000     312882.000000  312882.000000  \n",
       "mean    78802.645788     100928.339777    2014.625303  \n",
       "std     53230.758542      66485.186495       2.290899  \n",
       "min      -618.130000      -3628.780000    2011.000000  \n",
       "25%     38803.000000      48955.072500    2013.000000  \n",
       "50%     74908.790000     100011.290000    2015.000000  \n",
       "75%    111386.897500     142376.300000    2017.000000  \n",
       "max    592394.340000     712802.360000    2018.000000  "
      ]
     },
     "execution_count": 63,
     "metadata": {},
     "output_type": "execute_result"
    }
   ],
   "source": [
    "df.describe()"
   ]
  },
  {
   "cell_type": "markdown",
   "id": "45cb7a0c-82fc-4e76-aa8b-3c4b17b406f2",
   "metadata": {},
   "source": [
    "#### Like me, you may be curious about this negative BasePay\n",
    "\n",
    "#### So, let me check who have negetaive BasePay?"
   ]
  },
  {
   "cell_type": "code",
   "execution_count": 66,
   "id": "448e676f-34e3-4ed8-aea1-03b00e4f5ab8",
   "metadata": {},
   "outputs": [
    {
     "data": {
      "text/html": [
       "<div>\n",
       "<style scoped>\n",
       "    .dataframe tbody tr th:only-of-type {\n",
       "        vertical-align: middle;\n",
       "    }\n",
       "\n",
       "    .dataframe tbody tr th {\n",
       "        vertical-align: top;\n",
       "    }\n",
       "\n",
       "    .dataframe thead th {\n",
       "        text-align: right;\n",
       "    }\n",
       "</style>\n",
       "<table border=\"1\" class=\"dataframe\">\n",
       "  <thead>\n",
       "    <tr style=\"text-align: right;\">\n",
       "      <th></th>\n",
       "      <th>EmployeeName</th>\n",
       "      <th>JobTitle</th>\n",
       "      <th>BasePay</th>\n",
       "      <th>OvertimePay</th>\n",
       "      <th>OtherPay</th>\n",
       "      <th>Benefits</th>\n",
       "      <th>TotalPay</th>\n",
       "      <th>TotalPayBenefits</th>\n",
       "      <th>Year</th>\n",
       "    </tr>\n",
       "  </thead>\n",
       "  <tbody>\n",
       "    <tr>\n",
       "      <th>72832</th>\n",
       "      <td>Irwin Sidharta</td>\n",
       "      <td>Junior Clerk</td>\n",
       "      <td>-166.01</td>\n",
       "      <td>249.02</td>\n",
       "      <td>0.00</td>\n",
       "      <td>6.56</td>\n",
       "      <td>83.01</td>\n",
       "      <td>89.57</td>\n",
       "      <td>2012</td>\n",
       "    </tr>\n",
       "    <tr>\n",
       "      <th>72865</th>\n",
       "      <td>Robert Scott</td>\n",
       "      <td>Junior Clerk</td>\n",
       "      <td>-121.63</td>\n",
       "      <td>182.70</td>\n",
       "      <td>0.00</td>\n",
       "      <td>5.44</td>\n",
       "      <td>61.07</td>\n",
       "      <td>66.51</td>\n",
       "      <td>2012</td>\n",
       "    </tr>\n",
       "    <tr>\n",
       "      <th>72872</th>\n",
       "      <td>Chung Huey Kung</td>\n",
       "      <td>Junior Clerk</td>\n",
       "      <td>-109.22</td>\n",
       "      <td>163.83</td>\n",
       "      <td>0.00</td>\n",
       "      <td>4.32</td>\n",
       "      <td>54.61</td>\n",
       "      <td>58.93</td>\n",
       "      <td>2012</td>\n",
       "    </tr>\n",
       "    <tr>\n",
       "      <th>72874</th>\n",
       "      <td>Jordan Li</td>\n",
       "      <td>Junior Clerk</td>\n",
       "      <td>-106.60</td>\n",
       "      <td>159.90</td>\n",
       "      <td>0.00</td>\n",
       "      <td>4.66</td>\n",
       "      <td>53.30</td>\n",
       "      <td>57.96</td>\n",
       "      <td>2012</td>\n",
       "    </tr>\n",
       "    <tr>\n",
       "      <th>72878</th>\n",
       "      <td>Richard Jackson</td>\n",
       "      <td>Junior Clerk</td>\n",
       "      <td>-101.88</td>\n",
       "      <td>153.08</td>\n",
       "      <td>0.00</td>\n",
       "      <td>4.55</td>\n",
       "      <td>51.20</td>\n",
       "      <td>55.75</td>\n",
       "      <td>2012</td>\n",
       "    </tr>\n",
       "    <tr>\n",
       "      <th>72884</th>\n",
       "      <td>DiMarco McGhee-Stewart</td>\n",
       "      <td>Junior Clerk</td>\n",
       "      <td>-93.14</td>\n",
       "      <td>139.97</td>\n",
       "      <td>0.00</td>\n",
       "      <td>4.17</td>\n",
       "      <td>46.83</td>\n",
       "      <td>51.00</td>\n",
       "      <td>2012</td>\n",
       "    </tr>\n",
       "    <tr>\n",
       "      <th>72888</th>\n",
       "      <td>Leopoldo Marasigan</td>\n",
       "      <td>Junior Clerk</td>\n",
       "      <td>-87.38</td>\n",
       "      <td>131.06</td>\n",
       "      <td>0.00</td>\n",
       "      <td>3.89</td>\n",
       "      <td>43.68</td>\n",
       "      <td>47.57</td>\n",
       "      <td>2012</td>\n",
       "    </tr>\n",
       "    <tr>\n",
       "      <th>72894</th>\n",
       "      <td>Douglas Avalos</td>\n",
       "      <td>Junior Clerk</td>\n",
       "      <td>-75.67</td>\n",
       "      <td>113.76</td>\n",
       "      <td>0.00</td>\n",
       "      <td>3.39</td>\n",
       "      <td>38.09</td>\n",
       "      <td>41.48</td>\n",
       "      <td>2012</td>\n",
       "    </tr>\n",
       "    <tr>\n",
       "      <th>72908</th>\n",
       "      <td>Norma Rodriguez</td>\n",
       "      <td>Junior Clerk</td>\n",
       "      <td>-59.59</td>\n",
       "      <td>89.65</td>\n",
       "      <td>0.00</td>\n",
       "      <td>2.68</td>\n",
       "      <td>30.06</td>\n",
       "      <td>32.74</td>\n",
       "      <td>2012</td>\n",
       "    </tr>\n",
       "    <tr>\n",
       "      <th>72920</th>\n",
       "      <td>Charles Williams</td>\n",
       "      <td>Junior Clerk</td>\n",
       "      <td>-30.58</td>\n",
       "      <td>45.87</td>\n",
       "      <td>0.00</td>\n",
       "      <td>1.36</td>\n",
       "      <td>15.29</td>\n",
       "      <td>16.65</td>\n",
       "      <td>2012</td>\n",
       "    </tr>\n",
       "    <tr>\n",
       "      <th>72922</th>\n",
       "      <td>John Draper</td>\n",
       "      <td>Clerk</td>\n",
       "      <td>-9.50</td>\n",
       "      <td>14.25</td>\n",
       "      <td>0.00</td>\n",
       "      <td>0.42</td>\n",
       "      <td>4.75</td>\n",
       "      <td>5.17</td>\n",
       "      <td>2012</td>\n",
       "    </tr>\n",
       "    <tr>\n",
       "      <th>188036</th>\n",
       "      <td>Lubna Kaur</td>\n",
       "      <td>PS Aide Health Services</td>\n",
       "      <td>-292.40</td>\n",
       "      <td>0.00</td>\n",
       "      <td>0.00</td>\n",
       "      <td>-2.92</td>\n",
       "      <td>-292.40</td>\n",
       "      <td>-295.32</td>\n",
       "      <td>2015</td>\n",
       "    </tr>\n",
       "    <tr>\n",
       "      <th>270571</th>\n",
       "      <td>Carlos R Castro Santiago</td>\n",
       "      <td>Custodian</td>\n",
       "      <td>-474.40</td>\n",
       "      <td>0.00</td>\n",
       "      <td>-23.72</td>\n",
       "      <td>-79.35</td>\n",
       "      <td>-498.12</td>\n",
       "      <td>-577.47</td>\n",
       "      <td>2017</td>\n",
       "    </tr>\n",
       "  </tbody>\n",
       "</table>\n",
       "</div>"
      ],
      "text/plain": [
       "                    EmployeeName                 JobTitle  BasePay  \\\n",
       "72832             Irwin Sidharta             Junior Clerk  -166.01   \n",
       "72865               Robert Scott             Junior Clerk  -121.63   \n",
       "72872            Chung Huey Kung             Junior Clerk  -109.22   \n",
       "72874                  Jordan Li             Junior Clerk  -106.60   \n",
       "72878            Richard Jackson             Junior Clerk  -101.88   \n",
       "72884     DiMarco McGhee-Stewart             Junior Clerk   -93.14   \n",
       "72888         Leopoldo Marasigan             Junior Clerk   -87.38   \n",
       "72894             Douglas Avalos             Junior Clerk   -75.67   \n",
       "72908            Norma Rodriguez             Junior Clerk   -59.59   \n",
       "72920           Charles Williams             Junior Clerk   -30.58   \n",
       "72922                John Draper                    Clerk    -9.50   \n",
       "188036                Lubna Kaur  PS Aide Health Services  -292.40   \n",
       "270571  Carlos R Castro Santiago                Custodian  -474.40   \n",
       "\n",
       "        OvertimePay  OtherPay  Benefits  TotalPay  TotalPayBenefits  Year  \n",
       "72832        249.02      0.00      6.56     83.01             89.57  2012  \n",
       "72865        182.70      0.00      5.44     61.07             66.51  2012  \n",
       "72872        163.83      0.00      4.32     54.61             58.93  2012  \n",
       "72874        159.90      0.00      4.66     53.30             57.96  2012  \n",
       "72878        153.08      0.00      4.55     51.20             55.75  2012  \n",
       "72884        139.97      0.00      4.17     46.83             51.00  2012  \n",
       "72888        131.06      0.00      3.89     43.68             47.57  2012  \n",
       "72894        113.76      0.00      3.39     38.09             41.48  2012  \n",
       "72908         89.65      0.00      2.68     30.06             32.74  2012  \n",
       "72920         45.87      0.00      1.36     15.29             16.65  2012  \n",
       "72922         14.25      0.00      0.42      4.75              5.17  2012  \n",
       "188036         0.00      0.00     -2.92   -292.40           -295.32  2015  \n",
       "270571         0.00    -23.72    -79.35   -498.12           -577.47  2017  "
      ]
     },
     "execution_count": 66,
     "metadata": {},
     "output_type": "execute_result"
    }
   ],
   "source": [
    "df[df['BasePay']<0]"
   ]
  },
  {
   "cell_type": "markdown",
   "id": "9db63d1f-5078-4401-81f3-3768d5f5336d",
   "metadata": {},
   "source": [
    "The above table shows that 13 employee get negetavie BasePay. It needs to be check."
   ]
  },
  {
   "cell_type": "markdown",
   "id": "2c51167f-a4be-416a-b498-18174b5e31b2",
   "metadata": {},
   "source": [
    "lets explore some insights about \"Ricardo Jimenez\"?"
   ]
  },
  {
   "cell_type": "code",
   "execution_count": 70,
   "id": "89095b28-8de3-4dea-bdf6-172ac640869b",
   "metadata": {},
   "outputs": [
    {
     "data": {
      "text/html": [
       "<div>\n",
       "<style scoped>\n",
       "    .dataframe tbody tr th:only-of-type {\n",
       "        vertical-align: middle;\n",
       "    }\n",
       "\n",
       "    .dataframe tbody tr th {\n",
       "        vertical-align: top;\n",
       "    }\n",
       "\n",
       "    .dataframe thead th {\n",
       "        text-align: right;\n",
       "    }\n",
       "</style>\n",
       "<table border=\"1\" class=\"dataframe\">\n",
       "  <thead>\n",
       "    <tr style=\"text-align: right;\">\n",
       "      <th></th>\n",
       "      <th>EmployeeName</th>\n",
       "      <th>JobTitle</th>\n",
       "      <th>BasePay</th>\n",
       "      <th>OvertimePay</th>\n",
       "      <th>OtherPay</th>\n",
       "      <th>Benefits</th>\n",
       "      <th>TotalPay</th>\n",
       "      <th>TotalPayBenefits</th>\n",
       "      <th>Year</th>\n",
       "    </tr>\n",
       "  </thead>\n",
       "  <tbody>\n",
       "    <tr>\n",
       "      <th>50596</th>\n",
       "      <td>Ricardo Jimenez</td>\n",
       "      <td>Transit Supervisor</td>\n",
       "      <td>72936.93</td>\n",
       "      <td>8078.04</td>\n",
       "      <td>3701.18</td>\n",
       "      <td>31355.90</td>\n",
       "      <td>84716.15</td>\n",
       "      <td>116072.05</td>\n",
       "      <td>2012</td>\n",
       "    </tr>\n",
       "    <tr>\n",
       "      <th>120452</th>\n",
       "      <td>Ricardo Jimenez</td>\n",
       "      <td>Transit Supervisor</td>\n",
       "      <td>89128.98</td>\n",
       "      <td>14206.09</td>\n",
       "      <td>2677.35</td>\n",
       "      <td>33912.52</td>\n",
       "      <td>106012.42</td>\n",
       "      <td>139924.94</td>\n",
       "      <td>2014</td>\n",
       "    </tr>\n",
       "    <tr>\n",
       "      <th>160317</th>\n",
       "      <td>Ricardo Jimenez</td>\n",
       "      <td>Transit Supervisor</td>\n",
       "      <td>89623.29</td>\n",
       "      <td>8757.50</td>\n",
       "      <td>2556.00</td>\n",
       "      <td>32716.82</td>\n",
       "      <td>100936.79</td>\n",
       "      <td>133653.61</td>\n",
       "      <td>2015</td>\n",
       "    </tr>\n",
       "    <tr>\n",
       "      <th>198692</th>\n",
       "      <td>Ricardo Jimenez</td>\n",
       "      <td>Transit Supervisor</td>\n",
       "      <td>97131.01</td>\n",
       "      <td>10767.28</td>\n",
       "      <td>2572.50</td>\n",
       "      <td>33947.81</td>\n",
       "      <td>110470.79</td>\n",
       "      <td>144418.60</td>\n",
       "      <td>2016</td>\n",
       "    </tr>\n",
       "    <tr>\n",
       "      <th>240214</th>\n",
       "      <td>Ricardo Jimenez</td>\n",
       "      <td>Transit Supervisor</td>\n",
       "      <td>100900.50</td>\n",
       "      <td>8531.81</td>\n",
       "      <td>2838.00</td>\n",
       "      <td>35989.91</td>\n",
       "      <td>112270.31</td>\n",
       "      <td>148260.22</td>\n",
       "      <td>2017</td>\n",
       "    </tr>\n",
       "    <tr>\n",
       "      <th>299079</th>\n",
       "      <td>Ricardo Jimenez</td>\n",
       "      <td>Transit Supervisor</td>\n",
       "      <td>61286.00</td>\n",
       "      <td>2780.30</td>\n",
       "      <td>1417.50</td>\n",
       "      <td>22218.57</td>\n",
       "      <td>65483.80</td>\n",
       "      <td>87702.37</td>\n",
       "      <td>2018</td>\n",
       "    </tr>\n",
       "  </tbody>\n",
       "</table>\n",
       "</div>"
      ],
      "text/plain": [
       "           EmployeeName            JobTitle    BasePay  OvertimePay  OtherPay  \\\n",
       "50596   Ricardo Jimenez  Transit Supervisor   72936.93      8078.04   3701.18   \n",
       "120452  Ricardo Jimenez  Transit Supervisor   89128.98     14206.09   2677.35   \n",
       "160317  Ricardo Jimenez  Transit Supervisor   89623.29      8757.50   2556.00   \n",
       "198692  Ricardo Jimenez  Transit Supervisor   97131.01     10767.28   2572.50   \n",
       "240214  Ricardo Jimenez  Transit Supervisor  100900.50      8531.81   2838.00   \n",
       "299079  Ricardo Jimenez  Transit Supervisor   61286.00      2780.30   1417.50   \n",
       "\n",
       "        Benefits   TotalPay  TotalPayBenefits  Year  \n",
       "50596   31355.90   84716.15         116072.05  2012  \n",
       "120452  33912.52  106012.42         139924.94  2014  \n",
       "160317  32716.82  100936.79         133653.61  2015  \n",
       "198692  33947.81  110470.79         144418.60  2016  \n",
       "240214  35989.91  112270.31         148260.22  2017  \n",
       "299079  22218.57   65483.80          87702.37  2018  "
      ]
     },
     "execution_count": 70,
     "metadata": {},
     "output_type": "execute_result"
    }
   ],
   "source": [
    "df[df['EmployeeName']=='Ricardo Jimenez']"
   ]
  },
  {
   "cell_type": "code",
   "execution_count": 72,
   "id": "f156ef5d-c69d-4ea8-a346-f234495b842c",
   "metadata": {},
   "outputs": [
    {
     "data": {
      "text/html": [
       "<div>\n",
       "<style scoped>\n",
       "    .dataframe tbody tr th:only-of-type {\n",
       "        vertical-align: middle;\n",
       "    }\n",
       "\n",
       "    .dataframe tbody tr th {\n",
       "        vertical-align: top;\n",
       "    }\n",
       "\n",
       "    .dataframe thead th {\n",
       "        text-align: right;\n",
       "    }\n",
       "</style>\n",
       "<table border=\"1\" class=\"dataframe\">\n",
       "  <thead>\n",
       "    <tr style=\"text-align: right;\">\n",
       "      <th></th>\n",
       "      <th>BasePay</th>\n",
       "      <th>Year</th>\n",
       "    </tr>\n",
       "  </thead>\n",
       "  <tbody>\n",
       "    <tr>\n",
       "      <th>50596</th>\n",
       "      <td>72936.93</td>\n",
       "      <td>2012</td>\n",
       "    </tr>\n",
       "    <tr>\n",
       "      <th>120452</th>\n",
       "      <td>89128.98</td>\n",
       "      <td>2014</td>\n",
       "    </tr>\n",
       "    <tr>\n",
       "      <th>160317</th>\n",
       "      <td>89623.29</td>\n",
       "      <td>2015</td>\n",
       "    </tr>\n",
       "    <tr>\n",
       "      <th>198692</th>\n",
       "      <td>97131.01</td>\n",
       "      <td>2016</td>\n",
       "    </tr>\n",
       "    <tr>\n",
       "      <th>240214</th>\n",
       "      <td>100900.50</td>\n",
       "      <td>2017</td>\n",
       "    </tr>\n",
       "    <tr>\n",
       "      <th>299079</th>\n",
       "      <td>61286.00</td>\n",
       "      <td>2018</td>\n",
       "    </tr>\n",
       "  </tbody>\n",
       "</table>\n",
       "</div>"
      ],
      "text/plain": [
       "          BasePay  Year\n",
       "50596    72936.93  2012\n",
       "120452   89128.98  2014\n",
       "160317   89623.29  2015\n",
       "198692   97131.01  2016\n",
       "240214  100900.50  2017\n",
       "299079   61286.00  2018"
      ]
     },
     "execution_count": 72,
     "metadata": {},
     "output_type": "execute_result"
    }
   ],
   "source": [
    "df[df['EmployeeName']=='Ricardo Jimenez'][['BasePay', 'Year']]"
   ]
  },
  {
   "cell_type": "code",
   "execution_count": 74,
   "id": "4f0dd211-97d1-437f-accb-ecdfaffa45d2",
   "metadata": {},
   "outputs": [
    {
     "name": "stdout",
     "output_type": "stream",
     "text": [
      "The information of 8 Years are available in this data set: [2011 2012 2013 2014 2015 2016 2017 2018]\n"
     ]
    }
   ],
   "source": [
    "A=df['Year'].nunique()\n",
    "B=df['Year'].unique()\n",
    "print('The information of {} Years are available in this data set: {}'.format(A,B))"
   ]
  },
  {
   "cell_type": "code",
   "execution_count": 84,
   "id": "d6b80ef5-adc1-4954-ae85-65a7c6ac7140",
   "metadata": {},
   "outputs": [
    {
     "data": {
      "image/png": "[encoded data removed]",
      "text/plain": [
       "<Figure size 640x480 with 1 Axes>"
      ]
     },
     "metadata": {},
     "output_type": "display_data"
    }
   ],
   "source": [
    "sns.barplot(data=df,x='Year', y='BasePay')\n",
    "plt.show()"
   ]
  },
  {
   "cell_type": "code",
   "execution_count": 85,
   "id": "04290ff7-a033-402e-a007-1457417ac49e",
   "metadata": {},
   "outputs": [
    {
     "data": {
      "text/plain": [
       "JobTitle\n",
       "Transit Operator    17995\n",
       "Special Nurse       10857\n",
       "Registered Nurse     9249\n",
       "Firefighter          5891\n",
       "Custodian            5759\n",
       "Name: count, dtype: int64"
      ]
     },
     "execution_count": 85,
     "metadata": {},
     "output_type": "execute_result"
    }
   ],
   "source": [
    "df['JobTitle'].value_counts().head(5)"
   ]
  },
  {
   "cell_type": "code",
   "execution_count": 88,
   "id": "d6abe370-d8d7-470f-9459-15197348e86c",
   "metadata": {},
   "outputs": [
    {
     "data": {
      "text/plain": [
       "Year\n",
       "2011    1045\n",
       "2012    1044\n",
       "2013    1051\n",
       "2014     996\n",
       "2015    1010\n",
       "2016    1009\n",
       "2017    1017\n",
       "2018    1000\n",
       "Name: JobTitle, dtype: int64"
      ]
     },
     "execution_count": 88,
     "metadata": {},
     "output_type": "execute_result"
    }
   ],
   "source": [
    "df.groupby('Year').nunique()['JobTitle']"
   ]
  },
  {
   "cell_type": "code",
   "execution_count": 90,
   "id": "14c7b891-4b35-48bb-a3ff-1dfa23050ac6",
   "metadata": {},
   "outputs": [
    {
     "data": {
      "text/plain": [
       "1051"
      ]
     },
     "execution_count": 90,
     "metadata": {},
     "output_type": "execute_result"
    }
   ],
   "source": [
    "df[df['Year']==2013]['JobTitle'].nunique()"
   ]
  },
  {
   "cell_type": "code",
   "execution_count": 92,
   "id": "4ded93af-b0f0-403c-ba77-a08914a45368",
   "metadata": {},
   "outputs": [
    {
     "data": {
      "text/plain": [
       "202"
      ]
     },
     "execution_count": 92,
     "metadata": {},
     "output_type": "execute_result"
    }
   ],
   "source": [
    "sum(df[df['Year']==2013]['JobTitle'].value_counts()==1)"
   ]
  },
  {
   "cell_type": "code",
   "execution_count": 94,
   "id": "e4cef877-f9d8-42df-9f67-68c70963c28d",
   "metadata": {},
   "outputs": [
    {
     "data": {
      "text/plain": [
       "1236"
      ]
     },
     "execution_count": 94,
     "metadata": {},
     "output_type": "execute_result"
    }
   ],
   "source": [
    "def chief_string(title):\n",
    "    if 'chief' in title.lower():\n",
    "        return True\n",
    "    else:\n",
    "        return False\n",
    "\n",
    "sum(df['JobTitle'].apply(lambda x: chief_string(x)))"
   ]
  },
  {
   "cell_type": "code",
   "execution_count": null,
   "id": "8db930fa-70eb-4881-af92-2c25abe0f6fc",
   "metadata": {},
   "outputs": [],
   "source": []
  }
 ],
 "metadata": {
  "kernelspec": {
   "display_name": "Python [conda env:base] *",
   "language": "python",
   "name": "conda-base-py"
  },
  "language_info": {
   "codemirror_mode": {
    "name": "ipython",
    "version": 3
   },
   "file_extension": ".py",
   "mimetype": "text/x-python",
   "name": "python",
   "nbconvert_exporter": "python",
   "pygments_lexer": "ipython3",
   "version": "3.12.7"
  }
 },
 "nbformat": 4,
 "nbformat_minor": 5
}
